{
 "cells": [
  {
   "cell_type": "markdown",
   "metadata": {},
   "source": [
    "# Data Stream from Twitter using MongoDB, Pandas and Scikit Learn"
   ]
  },
  {
   "cell_type": "code",
   "execution_count": 2,
   "metadata": {},
   "outputs": [
    {
     "name": "stdout",
     "output_type": "stream",
     "text": [
      "Versão da Linguagem Python Usada Neste Jupyter Notebook: 3.8.5\n"
     ]
    }
   ],
   "source": [
    "# Python Version\n",
    "from platform import python_version\n",
    "print('Versão da Linguagem Python Usada Neste Jupyter Notebook:', python_version())"
   ]
  },
  {
   "cell_type": "markdown",
   "metadata": {},
   "source": [
    "## Preparando a Conexão com o Twitter"
   ]
  },
  {
   "cell_type": "code",
   "execution_count": 3,
   "metadata": {},
   "outputs": [
    {
     "name": "stdout",
     "output_type": "stream",
     "text": [
      "Requirement already satisfied: tweepy in c:\\users\\sabri\\anaconda3\\lib\\site-packages (3.10.0)\n",
      "Requirement already satisfied: six>=1.10.0 in c:\\users\\sabri\\anaconda3\\lib\\site-packages (from tweepy) (1.15.0)\n",
      "Requirement already satisfied: requests-oauthlib>=0.7.0 in c:\\users\\sabri\\anaconda3\\lib\\site-packages (from tweepy) (1.3.0)\n",
      "Requirement already satisfied: requests[socks]>=2.11.1 in c:\\users\\sabri\\anaconda3\\lib\\site-packages (from tweepy) (2.24.0)\n",
      "Requirement already satisfied: oauthlib>=3.0.0 in c:\\users\\sabri\\anaconda3\\lib\\site-packages (from requests-oauthlib>=0.7.0->tweepy) (3.1.0)\n",
      "Requirement already satisfied: urllib3!=1.25.0,!=1.25.1,<1.26,>=1.21.1 in c:\\users\\sabri\\anaconda3\\lib\\site-packages (from requests[socks]>=2.11.1->tweepy) (1.25.11)\n",
      "Requirement already satisfied: chardet<4,>=3.0.2 in c:\\users\\sabri\\anaconda3\\lib\\site-packages (from requests[socks]>=2.11.1->tweepy) (3.0.4)\n",
      "Requirement already satisfied: idna<3,>=2.5 in c:\\users\\sabri\\anaconda3\\lib\\site-packages (from requests[socks]>=2.11.1->tweepy) (2.10)\n",
      "Requirement already satisfied: certifi>=2017.4.17 in c:\\users\\sabri\\anaconda3\\lib\\site-packages (from requests[socks]>=2.11.1->tweepy) (2020.6.20)\n",
      "Requirement already satisfied: PySocks!=1.5.7,>=1.5.6; extra == \"socks\" in c:\\users\\sabri\\anaconda3\\lib\\site-packages (from requests[socks]>=2.11.1->tweepy) (1.7.1)\n"
     ]
    }
   ],
   "source": [
    "# Install tweepy package\n",
    "!pip install tweepy"
   ]
  },
  {
   "cell_type": "code",
   "execution_count": 4,
   "metadata": {},
   "outputs": [],
   "source": [
    "# Import Tweepy, Datetime and Json\n",
    "from tweepy.streaming import StreamListener\n",
    "from tweepy import OAuthHandler\n",
    "from tweepy import Stream\n",
    "from datetime import datetime\n",
    "import json"
   ]
  },
  {
   "cell_type": "markdown",
   "metadata": {},
   "source": [
    "## API from Twitter: Keys and Access Token Configuration"
   ]
  },
  {
   "cell_type": "code",
   "execution_count": 5,
   "metadata": {},
   "outputs": [],
   "source": [
    "# Consumer Key\n",
    "consumer_key = \"xXxXxXxXxXxXxXxXxXx\""
   ]
  },
  {
   "cell_type": "code",
   "execution_count": 6,
   "metadata": {},
   "outputs": [],
   "source": [
    "# Consumer Secret \n",
    "consumer_secret = \"xXxXxXxXxXxXxXxXxXx\""
   ]
  },
  {
   "cell_type": "code",
   "execution_count": 7,
   "metadata": {},
   "outputs": [],
   "source": [
    "# Access Token\n",
    "access_token = \"xXxXxXxXxXxXxXxXxXx\""
   ]
  },
  {
   "cell_type": "code",
   "execution_count": 8,
   "metadata": {},
   "outputs": [],
   "source": [
    "# Access Token Secret\n",
    "access_token_secret = \"xXxXxXxXxXxXxXxXxXxd\""
   ]
  },
  {
   "cell_type": "code",
   "execution_count": 9,
   "metadata": {},
   "outputs": [],
   "source": [
    "# Authentication Keys\n",
    "auth = OAuthHandler(consumer_key, consumer_secret)"
   ]
  },
  {
   "cell_type": "code",
   "execution_count": 10,
   "metadata": {},
   "outputs": [],
   "source": [
    "auth.set_access_token(access_token, access_token_secret)"
   ]
  },
  {
   "cell_type": "code",
   "execution_count": 12,
   "metadata": {},
   "outputs": [],
   "source": [
    "# Class for catch the Data Stream from Twitter and store on MongoDB\n",
    "class MyListener(StreamListener):\n",
    "    def on_data(self, dados):\n",
    "        tweet = json.loads(dados)\n",
    "        created_at = tweet[\"created_at\"]\n",
    "        id_str = tweet[\"id_str\"]\n",
    "        text = tweet[\"text\"]\n",
    "        obj = {\"created_at\":created_at,\"id_str\":id_str,\"text\":text,}\n",
    "        tweetind = col.insert_one(obj).inserted_id\n",
    "        print (obj)\n",
    "        return True"
   ]
  },
  {
   "cell_type": "code",
   "execution_count": 13,
   "metadata": {},
   "outputs": [],
   "source": [
    "# Object mylistener\n",
    "mylistener = MyListener()"
   ]
  },
  {
   "cell_type": "code",
   "execution_count": 14,
   "metadata": {},
   "outputs": [],
   "source": [
    "# Object mystream\n",
    "mystream = Stream(auth, listener = mylistener)"
   ]
  },
  {
   "cell_type": "markdown",
   "metadata": {},
   "source": [
    "## Connection with MongoDB"
   ]
  },
  {
   "cell_type": "code",
   "execution_count": 15,
   "metadata": {},
   "outputs": [],
   "source": [
    "# Import MongoClient from PyMong\n",
    "from pymongo import MongoClient   "
   ]
  },
  {
   "cell_type": "code",
   "execution_count": 16,
   "metadata": {},
   "outputs": [],
   "source": [
    "# Creating connection with MongoDB\n",
    "client = MongoClient('localhost', 27017)"
   ]
  },
  {
   "cell_type": "code",
   "execution_count": 17,
   "metadata": {},
   "outputs": [],
   "source": [
    "# Creating database twitterdb\n",
    "db = client.twitterdb"
   ]
  },
  {
   "cell_type": "code",
   "execution_count": 18,
   "metadata": {},
   "outputs": [],
   "source": [
    "# Creating collection \"col\"\n",
    "col = db.tweets "
   ]
  },
  {
   "cell_type": "code",
   "execution_count": 19,
   "metadata": {},
   "outputs": [],
   "source": [
    "# Criando uma lista de palavras chave para buscar nos Tweets\n",
    "keywords = ['Big Data', 'Python', 'Data Analytics', 'Data Science']"
   ]
  },
  {
   "cell_type": "markdown",
   "metadata": {},
   "source": [
    "## Gathering Tweets"
   ]
  },
  {
   "cell_type": "code",
   "execution_count": 20,
   "metadata": {
    "scrolled": false
   },
   "outputs": [
    {
     "name": "stdout",
     "output_type": "stream",
     "text": [
      "{'created_at': 'Tue Apr 27 02:30:11 +0000 2021', 'id_str': '1386870261518057479', 'text': 'RT @PythonWeekly: OpenAI-powered Linux shell uses AI to Do What You Mean \\nhttps://t.co/xHepORu6hW #OpenAI #ArtificialIntelligence #AI #Pyth…', '_id': ObjectId('608777388719d8fd88a0fe1e')}\n",
      "{'created_at': 'Tue Apr 27 02:30:16 +0000 2021', 'id_str': '1386870281281564673', 'text': 'YOU ARE A WINNER! DING BIG DATA LOW CARB COSPLAY DAD DIET LOOK FOR IT INSIDE GEORGE WASHINGTON JAZZ, WINE TASTING,… https://t.co/KvUvoQpYjl', '_id': ObjectId('6087773c8719d8fd88a0fe1f')}\n",
      "{'created_at': 'Tue Apr 27 02:30:19 +0000 2021', 'id_str': '1386870293537361920', 'text': '@Dogecoin_Girl_ Verilog, VHDL, Assembly, Python, C, C++, JavaScript, and #Doge', '_id': ObjectId('6087773f8719d8fd88a0fe20')}\n",
      "{'created_at': 'Tue Apr 27 02:30:20 +0000 2021', 'id_str': '1386870296137936901', 'text': 'RT @cyberflakeconn: #developer #coding #programmer #javascript #programming #software #php #webdeveloper #computerscience #html #css #webde…', '_id': ObjectId('608777408719d8fd88a0fe21')}\n",
      "{'created_at': 'Tue Apr 27 02:30:20 +0000 2021', 'id_str': '1386870296406282252', 'text': 'RT @Udemy_Coupons1: 100%OFF #UdemyCoupon Code For Today 27/04/2021 Daily Update https://t.co/NvHnsnrt2M\\n\\n#MachineLearning. #BigData #Analyt…', '_id': ObjectId('608777408719d8fd88a0fe22')}\n",
      "{'created_at': 'Tue Apr 27 02:30:21 +0000 2021', 'id_str': '1386870301091266560', 'text': '本日だいたい13:00 ~ 17:00 の間に\\nDjangoやPython開発でエラーなどに困ってるエンジニアさんがいたら、リアルタイムで相談・解決する試みをdiscordで行います😃\\n画面共有などもできるので是非是非活用してみて… https://t.co/o4S8JY605x', '_id': ObjectId('608777418719d8fd88a0fe23')}\n",
      "{'created_at': 'Tue Apr 27 02:30:21 +0000 2021', 'id_str': '1386870301724745730', 'text': 'RT @sajidmirza: A-Z Python Bootcamp(2021)-Basics to Data Science (50+ Hours) #DeepLearning #learning via https://t.co/bDTgBUIWtG https://t.…', '_id': ObjectId('608777418719d8fd88a0fe24')}\n",
      "{'created_at': 'Tue Apr 27 02:30:23 +0000 2021', 'id_str': '1386870310583033858', 'text': 'Our rates are affordable always\\nPython\\nTest\\nProgramming\\nExams\\nStatistics\\nCollege algebra\\nMaths \\nCalculus\\nEnglish \\nR… https://t.co/WacvorVUSZ', '_id': ObjectId('608777438719d8fd88a0fe25')}\n",
      "{'created_at': 'Tue Apr 27 02:30:25 +0000 2021', 'id_str': '1386870320649342977', 'text': \"RT @Outkick: This is literally anti-science. It is simply refusing to own the data and back down. Lockdowns don't work. Masking pre-schoole…\", '_id': ObjectId('608777468719d8fd88a0fe26')}\n",
      "{'created_at': 'Tue Apr 27 02:30:25 +0000 2021', 'id_str': '1386870321043628035', 'text': '@KirkCodes If you have big data does it search it?', '_id': ObjectId('608777468719d8fd88a0fe27')}\n",
      "{'created_at': 'Tue Apr 27 02:30:26 +0000 2021', 'id_str': '1386870321588973571', 'text': 'RT @MeowScripts: BIG GIVEAWAY 🥳\\n\\nPrizes:\\n\\n2x @WildProxies 5GB Residential Data Plan\\n1x @mangopreme Renewal\\n1x @MeowScripts Renewal Key\\n\\nRul…', '_id': ObjectId('608777468719d8fd88a0fe28')}\n",
      "{'created_at': 'Tue Apr 27 02:30:27 +0000 2021', 'id_str': '1386870326479441921', 'text': 'En Sociales circa 2001, el PRS tenía dos militantes e hizo alianza con el POR (no posadista, era una escisión del P… https://t.co/REAQhjUXqm', '_id': ObjectId('608777478719d8fd88a0fe29')}\n",
      "{'created_at': 'Tue Apr 27 02:30:27 +0000 2021', 'id_str': '1386870327473487872', 'text': 'RT @SuccessAnalytiX: The Science of Success \\n\\nhttps://t.co/5uYJg4e1qq\\n\\n#Analytics #BigData #AI #Rstats #Reactjs #MachineLearning #IoT #IIoT…', '_id': ObjectId('608777478719d8fd88a0fe2a')}\n",
      "{'created_at': 'Tue Apr 27 02:30:29 +0000 2021', 'id_str': '1386870335396401153', 'text': 'APG4bのPython版的なサイトがあればご教示頂けると幸いです🙇\\u200d♀️', '_id': ObjectId('608777498719d8fd88a0fe2b')}\n",
      "{'created_at': 'Tue Apr 27 02:30:30 +0000 2021', 'id_str': '1386870340626776064', 'text': '午前はロシア語とオランダ語しようと思ってたのにpythonしてる', '_id': ObjectId('6087774a8719d8fd88a0fe2c')}\n",
      "{'created_at': 'Tue Apr 27 02:30:31 +0000 2021', 'id_str': '1386870342145220611', 'text': 'RT @Panderp91: 🐍👑 It’s A Wonderful Afterlife: Concept Art 👑🐍\\nArt by @SoyLaMhoony \\nThank you so much for messaging me and wanting to make th…', '_id': ObjectId('6087774b8719d8fd88a0fe2d')}\n",
      "{'created_at': 'Tue Apr 27 02:30:30 +0000 2021', 'id_str': '1386870341952315392', 'text': 'The Science of Success \\n\\nhttps://t.co/5uYJg4e1qq\\n\\n#BigData #Analytics #DataScience #AI #MachineLearning #IoT #IIoT… https://t.co/8O9UWY4ZtW', '_id': ObjectId('6087774b8719d8fd88a0fe2e')}\n",
      "{'created_at': 'Tue Apr 27 02:30:36 +0000 2021', 'id_str': '1386870363712368641', 'text': 'Yah', '_id': ObjectId('608777508719d8fd88a0fe2f')}\n",
      "{'created_at': 'Tue Apr 27 02:30:36 +0000 2021', 'id_str': '1386870364047921156', 'text': 'RT @SuccessAnalytiX: The Science of Success \\n\\nhttps://t.co/5uYJg4e1qq\\n\\n#BigData #Analytics #DataScience #AI #MachineLearning #IoT #IIoT #Py…', '_id': ObjectId('608777508719d8fd88a0fe30')}\n",
      "{'created_at': 'Tue Apr 27 02:30:36 +0000 2021', 'id_str': '1386870366660870145', 'text': 'RT @IainLJBrown: A new way to visualize mountains of biological data #ArtificialIntelligence #AI #DataScience #100DaysOfCode #Python #Machi…', '_id': ObjectId('608777518719d8fd88a0fe31')}\n",
      "{'created_at': 'Tue Apr 27 02:30:37 +0000 2021', 'id_str': '1386870368716087299', 'text': 'RT @BenjaminP3ters: Mines students using artificial intelligence say Gonzaga will win March Madness - Kotatv\\n\\nRead more here: https://t.co/…', '_id': ObjectId('608777518719d8fd88a0fe32')}\n",
      "{'created_at': 'Tue Apr 27 02:30:37 +0000 2021', 'id_str': '1386870370741927938', 'text': 'RT @IainLJBrown: 3 Distinct Subtypes of Multiple Sclerosis Have Been Identified in Brain Scans #ArtificialIntelligence #AI #DataScience #10…', '_id': ObjectId('608777528719d8fd88a0fe33')}\n",
      "{'created_at': 'Tue Apr 27 02:30:38 +0000 2021', 'id_str': '1386870374827282433', 'text': 'RT @IainLJBrown: Can an artificial intelligence device increase polyp detection during colonoscopy? - On Medicine - BMC Blogs Network\\n\\nRead…', '_id': ObjectId('608777538719d8fd88a0fe34')}\n",
      "{'created_at': 'Tue Apr 27 02:30:39 +0000 2021', 'id_str': '1386870376966279174', 'text': 'RT @BenjaminP3ters: Exercise Reveals Advantages Artificial Intelligence Gives in All-Domain Ops - Department of Defense\\n\\nRead more here: ht…', '_id': ObjectId('608777538719d8fd88a0fe35')}\n",
      "{'created_at': 'Tue Apr 27 02:30:39 +0000 2021', 'id_str': '1386870379042545670', 'text': 'RT @BenjaminP3ters: Training artificial intelligence through synthetic data - Yahoo News\\n\\nRead more here: https://t.co/5g2ScKRXVh\\n\\n#Artific…', '_id': ObjectId('608777548719d8fd88a0fe36')}\n",
      "{'created_at': 'Tue Apr 27 02:30:40 +0000 2021', 'id_str': '1386870380678295558', 'text': 'RT @SuccessAnalytiX: The Science of Success \\n\\nhttps://t.co/5uYJg4e1qq\\n\\n#BigData #Analytics #DataScience #AI #MachineLearning #IoT #IIoT #Py…', '_id': ObjectId('608777548719d8fd88a0fe37')}\n",
      "{'created_at': 'Tue Apr 27 02:30:41 +0000 2021', 'id_str': '1386870385505824768', 'text': '@MoreThanWhimsy @SecCardona Agreed when that happens. But this isn’t one of those situations where that is happenin… https://t.co/HYbuQt9hXJ', '_id': ObjectId('608777558719d8fd88a0fe38')}\n",
      "{'created_at': 'Tue Apr 27 02:30:41 +0000 2021', 'id_str': '1386870387393318913', 'text': 'RT @IainLJBrown: From worldwide vaccinations to the boom of telehealth, #COVID19 has forced innovation at warp speed. What roles have data,…', '_id': ObjectId('608777568719d8fd88a0fe39')}\n",
      "{'created_at': 'Tue Apr 27 02:30:42 +0000 2021', 'id_str': '1386870389473783811', 'text': 'RT @BenjaminP3ters: Artificial Intelligence Requires Repositioning Your Workforce Rather Than Laying Them Off - BBN Times\\n\\nRead more here:…', '_id': ObjectId('608777568719d8fd88a0fe3a')}\n",
      "{'created_at': 'Tue Apr 27 02:30:42 +0000 2021', 'id_str': '1386870391549927425', 'text': 'RT @BenjaminP3ters: Artificial intelligence revolution offers benefits and challenges - Tech Xplore\\n\\nRead more here: https://t.co/Ep2L3xCCp…', '_id': ObjectId('608777578719d8fd88a0fe3b')}\n",
      "{'created_at': 'Tue Apr 27 02:30:43 +0000 2021', 'id_str': '1386870395387645952', 'text': 'RT @ValaAfshar: 2021 Top CIO technology investments:\\n\\n1 multi-cloud\\n2 security\\n3 data analytics\\n4 data integration\\n5 Internet of things\\n6 A…', '_id': ObjectId('608777588719d8fd88a0fe3c')}\n"
     ]
    },
    {
     "name": "stdout",
     "output_type": "stream",
     "text": [
      "{'created_at': 'Tue Apr 27 02:30:44 +0000 2021', 'id_str': '1386870399909105670', 'text': 'RT @BenjaminP3ters: The amazing promise of artificial intelligence in health care - EurekAlert\\n\\nRead more here: https://t.co/691wC64PkF\\n\\n#A…', '_id': ObjectId('608777598719d8fd88a0fe3d')}\n",
      "{'created_at': 'Tue Apr 27 02:30:44 +0000 2021', 'id_str': '1386870399909171203', 'text': '@KawaiiBOTz Source found on Pixiv!\\n\\nSimilarity: 95.1%\\nTitle: ミスティア\\nAuthor: あゆむ@アカウント移動しました\\nhttps://t.co/hPpSPKSQxA… https://t.co/QpaJGbocsb', '_id': ObjectId('608777598719d8fd88a0fe3e')}\n",
      "{'created_at': 'Tue Apr 27 02:30:45 +0000 2021', 'id_str': '1386870403029782528', 'text': 'RT @IainLJBrown: 3 Top Artificial Intelligence Stocks to Buy in April - Motley Fool\\n\\nRead more here: https://t.co/HZPNcPyPX2\\n\\n#ArtificialIn…', '_id': ObjectId('608777598719d8fd88a0fe3f')}\n",
      "{'created_at': 'Tue Apr 27 02:30:46 +0000 2021', 'id_str': '1386870405084893185', 'text': 'RT @IainLJBrown: LogicPlum Releases Major Update to Streamline Artificial Intelligence for Enterprises - PRNewswire\\n\\nRead more here: https:…', '_id': ObjectId('6087775a8719d8fd88a0fe40')}\n",
      "{'created_at': 'Tue Apr 27 02:30:46 +0000 2021', 'id_str': '1386870406850617357', 'text': 'RT @marcuskelson: So Dutton and Pezzullo are making up stories about an imminent war with China, Morrison claims to be doing god’s work wha…', '_id': ObjectId('6087775a8719d8fd88a0fe41')}\n",
      "{'created_at': 'Tue Apr 27 02:30:46 +0000 2021', 'id_str': '1386870407110828033', 'text': 'RT @BenjaminP3ters: IAB AI Working Group to Establish Artificial Intelligence Standards - PRNewswire\\n\\nRead more here: https://t.co/hJa0ttPi…', '_id': ObjectId('6087775a8719d8fd88a0fe42')}\n",
      "{'created_at': 'Tue Apr 27 02:30:47 +0000 2021', 'id_str': '1386870409178583042', 'text': 'RT @BenjaminP3ters: Artificial Intelligence And Machine Learning To Become Major Trends In The Apparel Industry - EIN News\\n\\nRead more here:…', '_id': ObjectId('6087775b8719d8fd88a0fe43')}\n",
      "{'created_at': 'Tue Apr 27 02:30:47 +0000 2021', 'id_str': '1386870410075987970', 'text': 'RT @SuccessAnalytiX: The Science of Success \\n\\nhttps://t.co/5uYJg4e1qq\\n\\n#BigData #Analytics #DataScience #AI #MachineLearning #IoT #IIoT #Py…', '_id': ObjectId('6087775b8719d8fd88a0fe44')}\n",
      "{'created_at': 'Tue Apr 27 02:30:47 +0000 2021', 'id_str': '1386870410386366465', 'text': 'RT @BenjaminP3ters: Training artificial intelligence through synthetic data - Yahoo News\\n\\nRead more here: https://t.co/5g2ScKRXVh\\n\\n#Artific…', '_id': ObjectId('6087775b8719d8fd88a0fe45')}\n",
      "{'created_at': 'Tue Apr 27 02:30:47 +0000 2021', 'id_str': '1386870410784825345', 'text': 'RT @BenjaminP3ters: Exercise Reveals Advantages Artificial Intelligence Gives in All-Domain Ops - Department of Defense\\n\\nRead more here: ht…', '_id': ObjectId('6087775b8719d8fd88a0fe46')}\n",
      "{'created_at': 'Tue Apr 27 02:30:47 +0000 2021', 'id_str': '1386870411539881984', 'text': 'RT @BenjaminP3ters: Mines students using artificial intelligence say Gonzaga will win March Madness - Kotatv\\n\\nRead more here: https://t.co/…', '_id': ObjectId('6087775b8719d8fd88a0fe47')}\n",
      "{'created_at': 'Tue Apr 27 02:30:47 +0000 2021', 'id_str': '1386870412240293893', 'text': 'RT @IainLJBrown: Can an artificial intelligence device increase polyp detection during colonoscopy? - On Medicine - BMC Blogs Network\\n\\nRead…', '_id': ObjectId('6087775c8719d8fd88a0fe48')}\n",
      "{'created_at': 'Tue Apr 27 02:30:47 +0000 2021', 'id_str': '1386870412907216898', 'text': 'RT @IainLJBrown: 3 Distinct Subtypes of Multiple Sclerosis Have Been Identified in Brain Scans #ArtificialIntelligence #AI #DataScience #10…', '_id': ObjectId('6087775c8719d8fd88a0fe49')}\n",
      "{'created_at': 'Tue Apr 27 02:30:48 +0000 2021', 'id_str': '1386870413678956546', 'text': 'RT @cyberflakeconn: #developer #coding #programmer #javascript #programming #software #php #webdeveloper #computerscience #html #css #webde…', '_id': ObjectId('6087775c8719d8fd88a0fe4a')}\n",
      "{'created_at': 'Tue Apr 27 02:30:48 +0000 2021', 'id_str': '1386870413662199809', 'text': 'RT @Udemy_Coupons1: 100%OFF #UdemyCoupon Code For Today 27/04/2021 Daily Update https://t.co/NvHnsnrt2M\\n\\n#MachineLearning. #BigData #Analyt…', '_id': ObjectId('6087775c8719d8fd88a0fe4b')}\n",
      "{'created_at': 'Tue Apr 27 02:30:48 +0000 2021', 'id_str': '1386870413595004929', 'text': 'RT @IainLJBrown: A new way to visualize mountains of biological data #ArtificialIntelligence #AI #DataScience #100DaysOfCode #Python #Machi…', '_id': ObjectId('6087775c8719d8fd88a0fe4c')}\n",
      "{'created_at': 'Tue Apr 27 02:30:48 +0000 2021', 'id_str': '1386870414475886595', 'text': 'RT @SuccessAnalytiX: The Science of Success \\n\\nhttps://t.co/5uYJg4e1qq\\n\\n#Analytics #BigData #AI #Rstats #Reactjs #MachineLearning #IoT #IIoT…', '_id': ObjectId('6087775c8719d8fd88a0fe4d')}\n",
      "{'created_at': 'Tue Apr 27 02:30:48 +0000 2021', 'id_str': '1386870415075647490', 'text': 'RT @jmdevlabs: Learn Python for CS and Data Science. https://t.co/YBve1KYQvQ #Python #Tech #100DaysOfCode #DEVCommunity #Dev #ML #CS #DataS…', '_id': ObjectId('6087775c8719d8fd88a0fe4e')}\n",
      "{'created_at': 'Tue Apr 27 02:30:48 +0000 2021', 'id_str': '1386870415746764805', 'text': 'RT @cursortek: CursorTek is #selling #bulk #data of 3k plus #categories like:\\n\\n#Landscaping #Lawyers #Laundry #DayCare #ChildCare #Building…', '_id': ObjectId('6087775c8719d8fd88a0fe4f')}\n",
      "{'created_at': 'Tue Apr 27 02:30:48 +0000 2021', 'id_str': '1386870415927046146', 'text': 'RT @PythonWeekly: OpenAI-powered Linux shell uses AI to Do What You Mean \\nhttps://t.co/xHepORu6hW #OpenAI #ArtificialIntelligence #AI #Pyth…', '_id': ObjectId('6087775c8719d8fd88a0fe50')}\n",
      "{'created_at': 'Tue Apr 27 02:30:48 +0000 2021', 'id_str': '1386870416912699392', 'text': 'RT @SuccessAnalytiX: The Science of Success \\n\\nhttps://t.co/5uYJg4e1qq\\n\\n#coding #Ruby #nodejs #vuejs #reactjs #100DaysOfCode #webdev #coder…', '_id': ObjectId('6087775d8719d8fd88a0fe51')}\n",
      "{'created_at': 'Tue Apr 27 02:30:48 +0000 2021', 'id_str': '1386870417235709958', 'text': 'RT @bukmedia1: #TensorFlow 2.0 Practical\\n\\n= https://t.co/jnbfFClvYk\\n\\n#development #DataScience #TensorFlow #MachineLearning #DeepLearning #…', '_id': ObjectId('6087775d8719d8fd88a0fe52')}\n",
      "{'created_at': 'Tue Apr 27 02:30:48 +0000 2021', 'id_str': '1386870417248317442', 'text': 'RT @couponfree01: Udemy Free Discount - Artificial Intelligence I: Basics and Games in Java #udemycoupon https://t.co/o1FiEjIyO4\\n\\n#DataScie…', '_id': ObjectId('6087775d8719d8fd88a0fe53')}\n",
      "{'created_at': 'Tue Apr 27 02:30:49 +0000 2021', 'id_str': '1386870419018317825', 'text': 'RT @EssayWriters0: We do \\n#Onlineclass\\n#Homework\\n#History\\n#Labreports\\n#Accounting\\n#Nursing\\n#Project\\n#Finance\\n#finals\\n#Biology\\n#javascript\\n#…', '_id': ObjectId('6087775d8719d8fd88a0fe54')}\n",
      "{'created_at': 'Tue Apr 27 02:30:49 +0000 2021', 'id_str': '1386870419425087492', 'text': 'RT @gp_pulipaka: Feature Store and Feature Engineering. #BigData #Analytics #DataScience #AI #MachineLearning #IoT #IIoT #PyTorch #Python #…', '_id': ObjectId('6087775d8719d8fd88a0fe55')}\n",
      "{'created_at': 'Tue Apr 27 02:30:49 +0000 2021', 'id_str': '1386870420083642372', 'text': 'RT @couponed_code: A-Z Python Bootcamp(2021)-Basics to Data Science (50+ Hours) \\n\\n➡️ https://t.co/YNjsmMSMG7\\n\\n🔥 @udemy #DeepLearning #Analy…', '_id': ObjectId('6087775d8719d8fd88a0fe56')}\n",
      "{'created_at': 'Tue Apr 27 02:30:49 +0000 2021', 'id_str': '1386870420238786561', 'text': 'RT @couponed_code: Reliability and Maintenance Excellence (RME) \\n\\n➡️ https://t.co/QnH311XMkV\\n\\n🔥 @udemy #business #Excel #Analysis #fiverrgi…', '_id': ObjectId('6087775d8719d8fd88a0fe57')}\n",
      "{'created_at': 'Tue Apr 27 02:30:49 +0000 2021', 'id_str': '1386870421639733252', 'text': 'RT @SuccessAnalytiX: The Science of Success \\n\\nhttps://t.co/5uYJg4e1qq\\n\\n#BigData #Analytics #DataScience #IoT #IIoT #PyTorch #Python #RStats…', '_id': ObjectId('6087775e8719d8fd88a0fe58')}\n",
      "{'created_at': 'Tue Apr 27 02:30:50 +0000 2021', 'id_str': '1386870423271378944', 'text': 'RT @Ojasving: @open_sessionsl', '_id': ObjectId('6087775e8719d8fd88a0fe59')}\n",
      "{'created_at': 'Tue Apr 27 02:30:50 +0000 2021', 'id_str': '1386870425448194051', 'text': 'Fafiuwasweawos big data 4.0', '_id': ObjectId('6087775f8719d8fd88a0fe5a')}\n"
     ]
    },
    {
     "name": "stdout",
     "output_type": "stream",
     "text": [
      "{'created_at': 'Tue Apr 27 02:30:52 +0000 2021', 'id_str': '1386870432788275200', 'text': 'RT @BenjaminP3ters: Training artificial intelligence through synthetic data - Yahoo News\\n\\nRead more here: https://t.co/5g2ScKRXVh\\n\\n#Artific…', '_id': ObjectId('608777608719d8fd88a0fe5b')}\n",
      "{'created_at': 'Tue Apr 27 02:30:53 +0000 2021', 'id_str': '1386870436730793984', 'text': 'RT @icymi_r: ✍️ Explore R libraries for end to end data science projects \\n\\n👤 Duy Ngọc\\n\\n🔗 https://t.co/H0T8nM9jxz\\n#rstats #datascience', '_id': ObjectId('608777618719d8fd88a0fe5c')}\n",
      "{'created_at': 'Tue Apr 27 02:30:55 +0000 2021', 'id_str': '1386870443756380161', 'text': '@jpogolds \"It\\'s only wafer-thin\" \\n\\n- Mr. Creosote, Monty Python\\'s The Meaning of Life', '_id': ObjectId('608777638719d8fd88a0fe5d')}\n",
      "{'created_at': 'Tue Apr 27 02:30:55 +0000 2021', 'id_str': '1386870444788051970', 'text': 'RT @cursortek: CursorTek is #selling #bulk #data of 3k plus #categories like:\\n\\n#Landscaping #Lawyers #Laundry #DayCare #ChildCare #Building…', '_id': ObjectId('608777638719d8fd88a0fe5e')}\n",
      "{'created_at': 'Tue Apr 27 02:30:56 +0000 2021', 'id_str': '1386870447510368257', 'text': '@POSitive_MATH @aminmlalani @ToniNorrell How about a perfectly programmed python pack-man? 😉 #SpreadMathLove', '_id': ObjectId('608777648719d8fd88a0fe5f')}\n",
      "{'created_at': 'Tue Apr 27 02:30:56 +0000 2021', 'id_str': '1386870447568941059', 'text': 'RT @SuccessAnalytiX: The Science of Success \\n\\nhttps://t.co/5uYJg4e1qq\\n\\n#coding #Ruby #nodejs #vuejs #reactjs #100DaysOfCode #webdev #coder…', '_id': ObjectId('608777648719d8fd88a0fe60')}\n",
      "{'created_at': 'Tue Apr 27 02:30:56 +0000 2021', 'id_str': '1386870448068210693', 'text': 'RT @patriciomolina: Muy buena esta página que te permite hacer ejercicios sencillos de programación directamente desde el navegador. Podés…', '_id': ObjectId('608777648719d8fd88a0fe61')}\n",
      "{'created_at': 'Tue Apr 27 02:30:56 +0000 2021', 'id_str': '1386870449766899712', 'text': 'We deliver quality services ever\\nonline class\\nassignments\\neconomics \\nessay pay\\nessay due\\njavascript \\nmaths\\nnursing… https://t.co/hGx4Hu0by3', '_id': ObjectId('608777648719d8fd88a0fe62')}\n",
      "{'created_at': 'Tue Apr 27 02:30:58 +0000 2021', 'id_str': '1386870458599964672', 'text': 'Whatsapp me now for good result in your exam\\n&gt;&gt; https://t.co/qeelWTuDj3 &lt;&lt;\\n\\n#Math #Exam #USA #stats\\n#100DaysOfCode… https://t.co/ina94r5PSX', '_id': ObjectId('608777678719d8fd88a0fe63')}\n",
      "{'created_at': 'Tue Apr 27 02:31:04 +0000 2021', 'id_str': '1386870480615919624', 'text': 'RT @ONLINECLASS_ASh: Whatsapp me now for good result in your exam\\n&gt;&gt; https://t.co/qeelWTuDj3 &lt;&lt;\\n\\n#Math #Exam #USA #stats\\n#100DaysOfCode #Io…', '_id': ObjectId('6087776c8719d8fd88a0fe64')}\n",
      "{'created_at': 'Tue Apr 27 02:31:04 +0000 2021', 'id_str': '1386870481085779969', 'text': 'RT @ONLINECLASS_ASh: Whatsapp me now for good result in your exam\\n&gt;&gt; https://t.co/qeelWTuDj3 &lt;&lt;\\n\\n#Math #Exam #USA #stats\\n#100DaysOfCode #Io…', '_id': ObjectId('6087776c8719d8fd88a0fe65')}\n",
      "{'created_at': 'Tue Apr 27 02:31:04 +0000 2021', 'id_str': '1386870483388403716', 'text': 'RT @legit_writers10: Are you striving to complete your assignments in time due to other pressing issues? Are you worried about what to do t…', '_id': ObjectId('6087776d8719d8fd88a0fe66')}\n",
      "{'created_at': 'Tue Apr 27 02:31:07 +0000 2021', 'id_str': '1386870495102967810', 'text': 'RT @Shuntarooo3: Rを使ったさまざまな書籍が無料で読めます（英語）。\\n\\nオーソドックスなとこだと、ggplotのトナカイ本、tidyverseのオウム本\\n\\n他にも、Introduction to Data Science、Beyond Multiple Line…', '_id': ObjectId('6087776f8719d8fd88a0fe67')}\n",
      "{'created_at': 'Tue Apr 27 02:31:08 +0000 2021', 'id_str': '1386870499108655110', 'text': 'RT @BenjaminP3ters: Artificial intelligence helps spot diabetes risk - Sanford Health News\\n\\nRead more here: https://t.co/Q5T6LBtl1P\\n\\n#Artif…', '_id': ObjectId('608777708719d8fd88a0fe68')}\n",
      "{'created_at': 'Tue Apr 27 02:31:08 +0000 2021', 'id_str': '1386870499469189122', 'text': 'if anyone has distributed a python game before would appreciate advice! nobody can play my ludum dare game lol', '_id': ObjectId('608777708719d8fd88a0fe69')}\n",
      "{'created_at': 'Tue Apr 27 02:31:09 +0000 2021', 'id_str': '1386870502224973826', 'text': 'RT @ONLINECLASS_ASh: Whatsapp me now for good result in your exam\\n&gt;&gt; https://t.co/qeelWTuDj3 &lt;&lt;\\n\\n#Math #Exam #USA #stats\\n#100DaysOfCode #Io…', '_id': ObjectId('608777718719d8fd88a0fe6a')}\n",
      "{'created_at': 'Tue Apr 27 02:31:10 +0000 2021', 'id_str': '1386870506943655943', 'text': 'RT @ONLINECLASS_ASh: Whatsapp me now for good result in your exam\\n&gt;&gt; https://t.co/qeelWTuDj3 &lt;&lt;\\n\\n#Math #Exam #USA #stats\\n#100DaysOfCode #Io…', '_id': ObjectId('608777728719d8fd88a0fe6b')}\n",
      "{'created_at': 'Tue Apr 27 02:31:15 +0000 2021', 'id_str': '1386870526728093696', 'text': 'RT @Udemy_Coupons1: How To Achieve Your Personal Goals In 12 Months https://t.co/uLoqSclaEk\\n\\n#MachineLearning. #BigData #Analytics #DataSci…', '_id': ObjectId('608777778719d8fd88a0fe6c')}\n",
      "{'created_at': 'Tue Apr 27 02:31:21 +0000 2021', 'id_str': '1386870552606826503', 'text': 'RT @BenjaminP3ters: Europe’s artificial intelligence blindspot: Race - https://t.co/PXaZJGnkSd\\n\\nRead more here: https://t.co/kIqjXVUsss\\n\\n#A…', '_id': ObjectId('6087777d8719d8fd88a0fe6d')}\n",
      "{'created_at': 'Tue Apr 27 02:31:26 +0000 2021', 'id_str': '1386870574228537344', 'text': 'The news of the day is really strong. Many big partners are gradually cooperating with #launchzone. It gives me gre… https://t.co/OtMNZ89vQC', '_id': ObjectId('608777828719d8fd88a0fe6e')}\n",
      "{'created_at': 'Tue Apr 27 02:31:27 +0000 2021', 'id_str': '1386870578922070017', 'text': 'RT @MeowScripts: BIG GIVEAWAY 🥳\\n\\nPrizes:\\n\\n2x @WildProxies 5GB Residential Data Plan\\n1x @mangopreme Renewal\\n1x @MeowScripts Renewal Key\\n\\nRul…', '_id': ObjectId('608777838719d8fd88a0fe6f')}\n",
      "{'created_at': 'Tue Apr 27 02:31:27 +0000 2021', 'id_str': '1386870579505029124', 'text': 'Step aside, Python — 4 benefits of using JavaScript for machine learning | TNW https://t.co/0w7miGYEBA \\n#MachineLearning #js', '_id': ObjectId('608777838719d8fd88a0fe70')}\n",
      "{'created_at': 'Tue Apr 27 02:31:28 +0000 2021', 'id_str': '1386870581585457162', 'text': '@eeners @adamcarolla And you will see nothing about enforcement in such guidance. Foolishly they think we will simp… https://t.co/jleLAiiuPr', '_id': ObjectId('608777848719d8fd88a0fe71')}\n",
      "{'created_at': 'Tue Apr 27 02:31:29 +0000 2021', 'id_str': '1386870586366996486', 'text': 'RT @EssayWriters0: We do \\n#Onlineclass\\n#Homework\\n#History\\n#Labreports\\n#Accounting\\n#Nursing\\n#Project\\n#Finance\\n#finals\\n#Biology\\n#javascript\\n#…', '_id': ObjectId('608777858719d8fd88a0fe72')}\n",
      "{'created_at': 'Tue Apr 27 02:31:32 +0000 2021', 'id_str': '1386870599499272192', 'text': 'RT @bukmedia1: #TensorFlow 2.0 Practical\\n\\n= https://t.co/jnbfFClvYk\\n\\n#development #DataScience #TensorFlow #MachineLearning #DeepLearning #…', '_id': ObjectId('608777888719d8fd88a0fe73')}\n",
      "{'created_at': 'Tue Apr 27 02:31:32 +0000 2021', 'id_str': '1386870600396910592', 'text': '@lilithkillith @ChristJC2 @AshleyJason47 @teatuahere We need to be smart about the restrictions we put in place. If… https://t.co/4dlGiqi0S5', '_id': ObjectId('608777888719d8fd88a0fe74')}\n",
      "{'created_at': 'Tue Apr 27 02:31:32 +0000 2021', 'id_str': '1386870601210544135', 'text': 'RT @omarsar0: Understanding a wide range of algorithms helps in becoming a better problem solver with code.\\n\\nThis amazing repo has 100s of…', '_id': ObjectId('608777898719d8fd88a0fe75')}\n",
      "{'created_at': 'Tue Apr 27 02:31:34 +0000 2021', 'id_str': '1386870608382906372', 'text': 'RT @couponfree01: Udemy Free Discount - Artificial Intelligence I: Basics and Games in Java #udemycoupon https://t.co/o1FiEjIyO4\\n\\n#DataScie…', '_id': ObjectId('6087778a8719d8fd88a0fe76')}\n",
      "{'created_at': 'Tue Apr 27 02:31:38 +0000 2021', 'id_str': '1386870625839370241', 'text': 'In line with our mission of promoting STEM education, we are thrilled to partake in the Data Science For Everyone C… https://t.co/uLvjNs0PKb', '_id': ObjectId('6087778f8719d8fd88a0fe77')}\n"
     ]
    },
    {
     "ename": "KeyboardInterrupt",
     "evalue": "",
     "output_type": "error",
     "traceback": [
      "\u001b[1;31m---------------------------------------------------------------------------\u001b[0m",
      "\u001b[1;31mKeyboardInterrupt\u001b[0m                         Traceback (most recent call last)",
      "\u001b[1;32m<ipython-input-20-6a9070444200>\u001b[0m in \u001b[0;36m<module>\u001b[1;34m\u001b[0m\n\u001b[0;32m      1\u001b[0m \u001b[1;31m# Iniciando o filtro e gravando os tweets no MongoDB\u001b[0m\u001b[1;33m\u001b[0m\u001b[1;33m\u001b[0m\u001b[1;33m\u001b[0m\u001b[0m\n\u001b[1;32m----> 2\u001b[1;33m \u001b[0mmystream\u001b[0m\u001b[1;33m.\u001b[0m\u001b[0mfilter\u001b[0m\u001b[1;33m(\u001b[0m\u001b[0mtrack\u001b[0m\u001b[1;33m=\u001b[0m\u001b[0mkeywords\u001b[0m\u001b[1;33m)\u001b[0m\u001b[1;33m\u001b[0m\u001b[1;33m\u001b[0m\u001b[0m\n\u001b[0m",
      "\u001b[1;32m~\\anaconda3\\lib\\site-packages\\tweepy\\streaming.py\u001b[0m in \u001b[0;36mfilter\u001b[1;34m(self, follow, track, is_async, locations, stall_warnings, languages, encoding, filter_level)\u001b[0m\n\u001b[0;32m    472\u001b[0m             \u001b[0mself\u001b[0m\u001b[1;33m.\u001b[0m\u001b[0mbody\u001b[0m\u001b[1;33m[\u001b[0m\u001b[1;34m'filter_level'\u001b[0m\u001b[1;33m]\u001b[0m \u001b[1;33m=\u001b[0m \u001b[0mfilter_level\u001b[0m\u001b[1;33m.\u001b[0m\u001b[0mencode\u001b[0m\u001b[1;33m(\u001b[0m\u001b[0mencoding\u001b[0m\u001b[1;33m)\u001b[0m\u001b[1;33m\u001b[0m\u001b[1;33m\u001b[0m\u001b[0m\n\u001b[0;32m    473\u001b[0m         \u001b[0mself\u001b[0m\u001b[1;33m.\u001b[0m\u001b[0msession\u001b[0m\u001b[1;33m.\u001b[0m\u001b[0mparams\u001b[0m \u001b[1;33m=\u001b[0m \u001b[1;33m{\u001b[0m\u001b[1;34m'delimited'\u001b[0m\u001b[1;33m:\u001b[0m \u001b[1;34m'length'\u001b[0m\u001b[1;33m}\u001b[0m\u001b[1;33m\u001b[0m\u001b[1;33m\u001b[0m\u001b[0m\n\u001b[1;32m--> 474\u001b[1;33m         \u001b[0mself\u001b[0m\u001b[1;33m.\u001b[0m\u001b[0m_start\u001b[0m\u001b[1;33m(\u001b[0m\u001b[0mis_async\u001b[0m\u001b[1;33m)\u001b[0m\u001b[1;33m\u001b[0m\u001b[1;33m\u001b[0m\u001b[0m\n\u001b[0m\u001b[0;32m    475\u001b[0m \u001b[1;33m\u001b[0m\u001b[0m\n\u001b[0;32m    476\u001b[0m     def sitestream(self, follow, stall_warnings=False,\n",
      "\u001b[1;32m~\\anaconda3\\lib\\site-packages\\tweepy\\streaming.py\u001b[0m in \u001b[0;36m_start\u001b[1;34m(self, is_async)\u001b[0m\n\u001b[0;32m    387\u001b[0m             \u001b[0mself\u001b[0m\u001b[1;33m.\u001b[0m\u001b[0m_thread\u001b[0m\u001b[1;33m.\u001b[0m\u001b[0mstart\u001b[0m\u001b[1;33m(\u001b[0m\u001b[1;33m)\u001b[0m\u001b[1;33m\u001b[0m\u001b[1;33m\u001b[0m\u001b[0m\n\u001b[0;32m    388\u001b[0m         \u001b[1;32melse\u001b[0m\u001b[1;33m:\u001b[0m\u001b[1;33m\u001b[0m\u001b[1;33m\u001b[0m\u001b[0m\n\u001b[1;32m--> 389\u001b[1;33m             \u001b[0mself\u001b[0m\u001b[1;33m.\u001b[0m\u001b[0m_run\u001b[0m\u001b[1;33m(\u001b[0m\u001b[1;33m)\u001b[0m\u001b[1;33m\u001b[0m\u001b[1;33m\u001b[0m\u001b[0m\n\u001b[0m\u001b[0;32m    390\u001b[0m \u001b[1;33m\u001b[0m\u001b[0m\n\u001b[0;32m    391\u001b[0m     \u001b[1;32mdef\u001b[0m \u001b[0mon_closed\u001b[0m\u001b[1;33m(\u001b[0m\u001b[0mself\u001b[0m\u001b[1;33m,\u001b[0m \u001b[0mresp\u001b[0m\u001b[1;33m)\u001b[0m\u001b[1;33m:\u001b[0m\u001b[1;33m\u001b[0m\u001b[1;33m\u001b[0m\u001b[0m\n",
      "\u001b[1;32m~\\anaconda3\\lib\\site-packages\\tweepy\\streaming.py\u001b[0m in \u001b[0;36m_run\u001b[1;34m(self)\u001b[0m\n\u001b[0;32m    287\u001b[0m                     \u001b[0mself\u001b[0m\u001b[1;33m.\u001b[0m\u001b[0msnooze_time\u001b[0m \u001b[1;33m=\u001b[0m \u001b[0mself\u001b[0m\u001b[1;33m.\u001b[0m\u001b[0msnooze_time_step\u001b[0m\u001b[1;33m\u001b[0m\u001b[1;33m\u001b[0m\u001b[0m\n\u001b[0;32m    288\u001b[0m                     \u001b[0mself\u001b[0m\u001b[1;33m.\u001b[0m\u001b[0mlistener\u001b[0m\u001b[1;33m.\u001b[0m\u001b[0mon_connect\u001b[0m\u001b[1;33m(\u001b[0m\u001b[1;33m)\u001b[0m\u001b[1;33m\u001b[0m\u001b[1;33m\u001b[0m\u001b[0m\n\u001b[1;32m--> 289\u001b[1;33m                     \u001b[0mself\u001b[0m\u001b[1;33m.\u001b[0m\u001b[0m_read_loop\u001b[0m\u001b[1;33m(\u001b[0m\u001b[0mresp\u001b[0m\u001b[1;33m)\u001b[0m\u001b[1;33m\u001b[0m\u001b[1;33m\u001b[0m\u001b[0m\n\u001b[0m\u001b[0;32m    290\u001b[0m             \u001b[1;32mexcept\u001b[0m \u001b[1;33m(\u001b[0m\u001b[0mTimeout\u001b[0m\u001b[1;33m,\u001b[0m \u001b[0mssl\u001b[0m\u001b[1;33m.\u001b[0m\u001b[0mSSLError\u001b[0m\u001b[1;33m)\u001b[0m \u001b[1;32mas\u001b[0m \u001b[0mexc\u001b[0m\u001b[1;33m:\u001b[0m\u001b[1;33m\u001b[0m\u001b[1;33m\u001b[0m\u001b[0m\n\u001b[0;32m    291\u001b[0m                 \u001b[1;31m# This is still necessary, as a SSLError can actually be\u001b[0m\u001b[1;33m\u001b[0m\u001b[1;33m\u001b[0m\u001b[1;33m\u001b[0m\u001b[0m\n",
      "\u001b[1;32m~\\anaconda3\\lib\\site-packages\\tweepy\\streaming.py\u001b[0m in \u001b[0;36m_read_loop\u001b[1;34m(self, resp)\u001b[0m\n\u001b[0;32m    337\u001b[0m             \u001b[0mlength\u001b[0m \u001b[1;33m=\u001b[0m \u001b[1;36m0\u001b[0m\u001b[1;33m\u001b[0m\u001b[1;33m\u001b[0m\u001b[0m\n\u001b[0;32m    338\u001b[0m             \u001b[1;32mwhile\u001b[0m \u001b[1;32mnot\u001b[0m \u001b[0mresp\u001b[0m\u001b[1;33m.\u001b[0m\u001b[0mraw\u001b[0m\u001b[1;33m.\u001b[0m\u001b[0mclosed\u001b[0m\u001b[1;33m:\u001b[0m\u001b[1;33m\u001b[0m\u001b[1;33m\u001b[0m\u001b[0m\n\u001b[1;32m--> 339\u001b[1;33m                 \u001b[0mline\u001b[0m \u001b[1;33m=\u001b[0m \u001b[0mbuf\u001b[0m\u001b[1;33m.\u001b[0m\u001b[0mread_line\u001b[0m\u001b[1;33m(\u001b[0m\u001b[1;33m)\u001b[0m\u001b[1;33m\u001b[0m\u001b[1;33m\u001b[0m\u001b[0m\n\u001b[0m\u001b[0;32m    340\u001b[0m                 \u001b[0mstripped_line\u001b[0m \u001b[1;33m=\u001b[0m \u001b[0mline\u001b[0m\u001b[1;33m.\u001b[0m\u001b[0mstrip\u001b[0m\u001b[1;33m(\u001b[0m\u001b[1;33m)\u001b[0m \u001b[1;32mif\u001b[0m \u001b[0mline\u001b[0m \u001b[1;32melse\u001b[0m \u001b[0mline\u001b[0m \u001b[1;31m# line is sometimes None so we need to check here\u001b[0m\u001b[1;33m\u001b[0m\u001b[1;33m\u001b[0m\u001b[0m\n\u001b[0;32m    341\u001b[0m                 \u001b[1;32mif\u001b[0m \u001b[1;32mnot\u001b[0m \u001b[0mstripped_line\u001b[0m\u001b[1;33m:\u001b[0m\u001b[1;33m\u001b[0m\u001b[1;33m\u001b[0m\u001b[0m\n",
      "\u001b[1;32m~\\anaconda3\\lib\\site-packages\\tweepy\\streaming.py\u001b[0m in \u001b[0;36mread_line\u001b[1;34m(self, sep)\u001b[0m\n\u001b[0;32m    198\u001b[0m             \u001b[1;32melse\u001b[0m\u001b[1;33m:\u001b[0m\u001b[1;33m\u001b[0m\u001b[1;33m\u001b[0m\u001b[0m\n\u001b[0;32m    199\u001b[0m                 \u001b[0mstart\u001b[0m \u001b[1;33m=\u001b[0m \u001b[0mlen\u001b[0m\u001b[1;33m(\u001b[0m\u001b[0mself\u001b[0m\u001b[1;33m.\u001b[0m\u001b[0m_buffer\u001b[0m\u001b[1;33m)\u001b[0m\u001b[1;33m\u001b[0m\u001b[1;33m\u001b[0m\u001b[0m\n\u001b[1;32m--> 200\u001b[1;33m             \u001b[0mself\u001b[0m\u001b[1;33m.\u001b[0m\u001b[0m_buffer\u001b[0m \u001b[1;33m+=\u001b[0m \u001b[0mself\u001b[0m\u001b[1;33m.\u001b[0m\u001b[0m_stream\u001b[0m\u001b[1;33m.\u001b[0m\u001b[0mread\u001b[0m\u001b[1;33m(\u001b[0m\u001b[0mself\u001b[0m\u001b[1;33m.\u001b[0m\u001b[0m_chunk_size\u001b[0m\u001b[1;33m)\u001b[0m\u001b[1;33m\u001b[0m\u001b[1;33m\u001b[0m\u001b[0m\n\u001b[0m\u001b[0;32m    201\u001b[0m         \u001b[1;32mreturn\u001b[0m \u001b[0msix\u001b[0m\u001b[1;33m.\u001b[0m\u001b[0mb\u001b[0m\u001b[1;33m(\u001b[0m\u001b[1;34m''\u001b[0m\u001b[1;33m)\u001b[0m\u001b[1;33m\u001b[0m\u001b[1;33m\u001b[0m\u001b[0m\n\u001b[0;32m    202\u001b[0m \u001b[1;33m\u001b[0m\u001b[0m\n",
      "\u001b[1;32m~\\anaconda3\\lib\\site-packages\\urllib3\\response.py\u001b[0m in \u001b[0;36mread\u001b[1;34m(self, amt, decode_content, cache_content)\u001b[0m\n\u001b[0;32m    516\u001b[0m             \u001b[1;32melse\u001b[0m\u001b[1;33m:\u001b[0m\u001b[1;33m\u001b[0m\u001b[1;33m\u001b[0m\u001b[0m\n\u001b[0;32m    517\u001b[0m                 \u001b[0mcache_content\u001b[0m \u001b[1;33m=\u001b[0m \u001b[1;32mFalse\u001b[0m\u001b[1;33m\u001b[0m\u001b[1;33m\u001b[0m\u001b[0m\n\u001b[1;32m--> 518\u001b[1;33m                 \u001b[0mdata\u001b[0m \u001b[1;33m=\u001b[0m \u001b[0mself\u001b[0m\u001b[1;33m.\u001b[0m\u001b[0m_fp\u001b[0m\u001b[1;33m.\u001b[0m\u001b[0mread\u001b[0m\u001b[1;33m(\u001b[0m\u001b[0mamt\u001b[0m\u001b[1;33m)\u001b[0m \u001b[1;32mif\u001b[0m \u001b[1;32mnot\u001b[0m \u001b[0mfp_closed\u001b[0m \u001b[1;32melse\u001b[0m \u001b[1;34mb\"\"\u001b[0m\u001b[1;33m\u001b[0m\u001b[1;33m\u001b[0m\u001b[0m\n\u001b[0m\u001b[0;32m    519\u001b[0m                 if (\n\u001b[0;32m    520\u001b[0m                     \u001b[0mamt\u001b[0m \u001b[1;33m!=\u001b[0m \u001b[1;36m0\u001b[0m \u001b[1;32mand\u001b[0m \u001b[1;32mnot\u001b[0m \u001b[0mdata\u001b[0m\u001b[1;33m\u001b[0m\u001b[1;33m\u001b[0m\u001b[0m\n",
      "\u001b[1;32m~\\anaconda3\\lib\\http\\client.py\u001b[0m in \u001b[0;36mread\u001b[1;34m(self, amt)\u001b[0m\n\u001b[0;32m    456\u001b[0m             \u001b[1;31m# Amount is given, implement using readinto\u001b[0m\u001b[1;33m\u001b[0m\u001b[1;33m\u001b[0m\u001b[1;33m\u001b[0m\u001b[0m\n\u001b[0;32m    457\u001b[0m             \u001b[0mb\u001b[0m \u001b[1;33m=\u001b[0m \u001b[0mbytearray\u001b[0m\u001b[1;33m(\u001b[0m\u001b[0mamt\u001b[0m\u001b[1;33m)\u001b[0m\u001b[1;33m\u001b[0m\u001b[1;33m\u001b[0m\u001b[0m\n\u001b[1;32m--> 458\u001b[1;33m             \u001b[0mn\u001b[0m \u001b[1;33m=\u001b[0m \u001b[0mself\u001b[0m\u001b[1;33m.\u001b[0m\u001b[0mreadinto\u001b[0m\u001b[1;33m(\u001b[0m\u001b[0mb\u001b[0m\u001b[1;33m)\u001b[0m\u001b[1;33m\u001b[0m\u001b[1;33m\u001b[0m\u001b[0m\n\u001b[0m\u001b[0;32m    459\u001b[0m             \u001b[1;32mreturn\u001b[0m \u001b[0mmemoryview\u001b[0m\u001b[1;33m(\u001b[0m\u001b[0mb\u001b[0m\u001b[1;33m)\u001b[0m\u001b[1;33m[\u001b[0m\u001b[1;33m:\u001b[0m\u001b[0mn\u001b[0m\u001b[1;33m]\u001b[0m\u001b[1;33m.\u001b[0m\u001b[0mtobytes\u001b[0m\u001b[1;33m(\u001b[0m\u001b[1;33m)\u001b[0m\u001b[1;33m\u001b[0m\u001b[1;33m\u001b[0m\u001b[0m\n\u001b[0;32m    460\u001b[0m         \u001b[1;32melse\u001b[0m\u001b[1;33m:\u001b[0m\u001b[1;33m\u001b[0m\u001b[1;33m\u001b[0m\u001b[0m\n",
      "\u001b[1;32m~\\anaconda3\\lib\\http\\client.py\u001b[0m in \u001b[0;36mreadinto\u001b[1;34m(self, b)\u001b[0m\n\u001b[0;32m    490\u001b[0m \u001b[1;33m\u001b[0m\u001b[0m\n\u001b[0;32m    491\u001b[0m         \u001b[1;32mif\u001b[0m \u001b[0mself\u001b[0m\u001b[1;33m.\u001b[0m\u001b[0mchunked\u001b[0m\u001b[1;33m:\u001b[0m\u001b[1;33m\u001b[0m\u001b[1;33m\u001b[0m\u001b[0m\n\u001b[1;32m--> 492\u001b[1;33m             \u001b[1;32mreturn\u001b[0m \u001b[0mself\u001b[0m\u001b[1;33m.\u001b[0m\u001b[0m_readinto_chunked\u001b[0m\u001b[1;33m(\u001b[0m\u001b[0mb\u001b[0m\u001b[1;33m)\u001b[0m\u001b[1;33m\u001b[0m\u001b[1;33m\u001b[0m\u001b[0m\n\u001b[0m\u001b[0;32m    493\u001b[0m \u001b[1;33m\u001b[0m\u001b[0m\n\u001b[0;32m    494\u001b[0m         \u001b[1;32mif\u001b[0m \u001b[0mself\u001b[0m\u001b[1;33m.\u001b[0m\u001b[0mlength\u001b[0m \u001b[1;32mis\u001b[0m \u001b[1;32mnot\u001b[0m \u001b[1;32mNone\u001b[0m\u001b[1;33m:\u001b[0m\u001b[1;33m\u001b[0m\u001b[1;33m\u001b[0m\u001b[0m\n",
      "\u001b[1;32m~\\anaconda3\\lib\\http\\client.py\u001b[0m in \u001b[0;36m_readinto_chunked\u001b[1;34m(self, b)\u001b[0m\n\u001b[0;32m    585\u001b[0m         \u001b[1;32mtry\u001b[0m\u001b[1;33m:\u001b[0m\u001b[1;33m\u001b[0m\u001b[1;33m\u001b[0m\u001b[0m\n\u001b[0;32m    586\u001b[0m             \u001b[1;32mwhile\u001b[0m \u001b[1;32mTrue\u001b[0m\u001b[1;33m:\u001b[0m\u001b[1;33m\u001b[0m\u001b[1;33m\u001b[0m\u001b[0m\n\u001b[1;32m--> 587\u001b[1;33m                 \u001b[0mchunk_left\u001b[0m \u001b[1;33m=\u001b[0m \u001b[0mself\u001b[0m\u001b[1;33m.\u001b[0m\u001b[0m_get_chunk_left\u001b[0m\u001b[1;33m(\u001b[0m\u001b[1;33m)\u001b[0m\u001b[1;33m\u001b[0m\u001b[1;33m\u001b[0m\u001b[0m\n\u001b[0m\u001b[0;32m    588\u001b[0m                 \u001b[1;32mif\u001b[0m \u001b[0mchunk_left\u001b[0m \u001b[1;32mis\u001b[0m \u001b[1;32mNone\u001b[0m\u001b[1;33m:\u001b[0m\u001b[1;33m\u001b[0m\u001b[1;33m\u001b[0m\u001b[0m\n\u001b[0;32m    589\u001b[0m                     \u001b[1;32mreturn\u001b[0m \u001b[0mtotal_bytes\u001b[0m\u001b[1;33m\u001b[0m\u001b[1;33m\u001b[0m\u001b[0m\n",
      "\u001b[1;32m~\\anaconda3\\lib\\http\\client.py\u001b[0m in \u001b[0;36m_get_chunk_left\u001b[1;34m(self)\u001b[0m\n\u001b[0;32m    553\u001b[0m                 \u001b[0mself\u001b[0m\u001b[1;33m.\u001b[0m\u001b[0m_safe_read\u001b[0m\u001b[1;33m(\u001b[0m\u001b[1;36m2\u001b[0m\u001b[1;33m)\u001b[0m  \u001b[1;31m# toss the CRLF at the end of the chunk\u001b[0m\u001b[1;33m\u001b[0m\u001b[1;33m\u001b[0m\u001b[0m\n\u001b[0;32m    554\u001b[0m             \u001b[1;32mtry\u001b[0m\u001b[1;33m:\u001b[0m\u001b[1;33m\u001b[0m\u001b[1;33m\u001b[0m\u001b[0m\n\u001b[1;32m--> 555\u001b[1;33m                 \u001b[0mchunk_left\u001b[0m \u001b[1;33m=\u001b[0m \u001b[0mself\u001b[0m\u001b[1;33m.\u001b[0m\u001b[0m_read_next_chunk_size\u001b[0m\u001b[1;33m(\u001b[0m\u001b[1;33m)\u001b[0m\u001b[1;33m\u001b[0m\u001b[1;33m\u001b[0m\u001b[0m\n\u001b[0m\u001b[0;32m    556\u001b[0m             \u001b[1;32mexcept\u001b[0m \u001b[0mValueError\u001b[0m\u001b[1;33m:\u001b[0m\u001b[1;33m\u001b[0m\u001b[1;33m\u001b[0m\u001b[0m\n\u001b[0;32m    557\u001b[0m                 \u001b[1;32mraise\u001b[0m \u001b[0mIncompleteRead\u001b[0m\u001b[1;33m(\u001b[0m\u001b[1;34mb''\u001b[0m\u001b[1;33m)\u001b[0m\u001b[1;33m\u001b[0m\u001b[1;33m\u001b[0m\u001b[0m\n",
      "\u001b[1;32m~\\anaconda3\\lib\\http\\client.py\u001b[0m in \u001b[0;36m_read_next_chunk_size\u001b[1;34m(self)\u001b[0m\n\u001b[0;32m    513\u001b[0m     \u001b[1;32mdef\u001b[0m \u001b[0m_read_next_chunk_size\u001b[0m\u001b[1;33m(\u001b[0m\u001b[0mself\u001b[0m\u001b[1;33m)\u001b[0m\u001b[1;33m:\u001b[0m\u001b[1;33m\u001b[0m\u001b[1;33m\u001b[0m\u001b[0m\n\u001b[0;32m    514\u001b[0m         \u001b[1;31m# Read the next chunk size from the file\u001b[0m\u001b[1;33m\u001b[0m\u001b[1;33m\u001b[0m\u001b[1;33m\u001b[0m\u001b[0m\n\u001b[1;32m--> 515\u001b[1;33m         \u001b[0mline\u001b[0m \u001b[1;33m=\u001b[0m \u001b[0mself\u001b[0m\u001b[1;33m.\u001b[0m\u001b[0mfp\u001b[0m\u001b[1;33m.\u001b[0m\u001b[0mreadline\u001b[0m\u001b[1;33m(\u001b[0m\u001b[0m_MAXLINE\u001b[0m \u001b[1;33m+\u001b[0m \u001b[1;36m1\u001b[0m\u001b[1;33m)\u001b[0m\u001b[1;33m\u001b[0m\u001b[1;33m\u001b[0m\u001b[0m\n\u001b[0m\u001b[0;32m    516\u001b[0m         \u001b[1;32mif\u001b[0m \u001b[0mlen\u001b[0m\u001b[1;33m(\u001b[0m\u001b[0mline\u001b[0m\u001b[1;33m)\u001b[0m \u001b[1;33m>\u001b[0m \u001b[0m_MAXLINE\u001b[0m\u001b[1;33m:\u001b[0m\u001b[1;33m\u001b[0m\u001b[1;33m\u001b[0m\u001b[0m\n\u001b[0;32m    517\u001b[0m             \u001b[1;32mraise\u001b[0m \u001b[0mLineTooLong\u001b[0m\u001b[1;33m(\u001b[0m\u001b[1;34m\"chunk size\"\u001b[0m\u001b[1;33m)\u001b[0m\u001b[1;33m\u001b[0m\u001b[1;33m\u001b[0m\u001b[0m\n",
      "\u001b[1;32m~\\anaconda3\\lib\\socket.py\u001b[0m in \u001b[0;36mreadinto\u001b[1;34m(self, b)\u001b[0m\n\u001b[0;32m    667\u001b[0m         \u001b[1;32mwhile\u001b[0m \u001b[1;32mTrue\u001b[0m\u001b[1;33m:\u001b[0m\u001b[1;33m\u001b[0m\u001b[1;33m\u001b[0m\u001b[0m\n\u001b[0;32m    668\u001b[0m             \u001b[1;32mtry\u001b[0m\u001b[1;33m:\u001b[0m\u001b[1;33m\u001b[0m\u001b[1;33m\u001b[0m\u001b[0m\n\u001b[1;32m--> 669\u001b[1;33m                 \u001b[1;32mreturn\u001b[0m \u001b[0mself\u001b[0m\u001b[1;33m.\u001b[0m\u001b[0m_sock\u001b[0m\u001b[1;33m.\u001b[0m\u001b[0mrecv_into\u001b[0m\u001b[1;33m(\u001b[0m\u001b[0mb\u001b[0m\u001b[1;33m)\u001b[0m\u001b[1;33m\u001b[0m\u001b[1;33m\u001b[0m\u001b[0m\n\u001b[0m\u001b[0;32m    670\u001b[0m             \u001b[1;32mexcept\u001b[0m \u001b[0mtimeout\u001b[0m\u001b[1;33m:\u001b[0m\u001b[1;33m\u001b[0m\u001b[1;33m\u001b[0m\u001b[0m\n\u001b[0;32m    671\u001b[0m                 \u001b[0mself\u001b[0m\u001b[1;33m.\u001b[0m\u001b[0m_timeout_occurred\u001b[0m \u001b[1;33m=\u001b[0m \u001b[1;32mTrue\u001b[0m\u001b[1;33m\u001b[0m\u001b[1;33m\u001b[0m\u001b[0m\n",
      "\u001b[1;32m~\\anaconda3\\lib\\ssl.py\u001b[0m in \u001b[0;36mrecv_into\u001b[1;34m(self, buffer, nbytes, flags)\u001b[0m\n\u001b[0;32m   1239\u001b[0m                   \u001b[1;34m\"non-zero flags not allowed in calls to recv_into() on %s\"\u001b[0m \u001b[1;33m%\u001b[0m\u001b[1;33m\u001b[0m\u001b[1;33m\u001b[0m\u001b[0m\n\u001b[0;32m   1240\u001b[0m                   self.__class__)\n\u001b[1;32m-> 1241\u001b[1;33m             \u001b[1;32mreturn\u001b[0m \u001b[0mself\u001b[0m\u001b[1;33m.\u001b[0m\u001b[0mread\u001b[0m\u001b[1;33m(\u001b[0m\u001b[0mnbytes\u001b[0m\u001b[1;33m,\u001b[0m \u001b[0mbuffer\u001b[0m\u001b[1;33m)\u001b[0m\u001b[1;33m\u001b[0m\u001b[1;33m\u001b[0m\u001b[0m\n\u001b[0m\u001b[0;32m   1242\u001b[0m         \u001b[1;32melse\u001b[0m\u001b[1;33m:\u001b[0m\u001b[1;33m\u001b[0m\u001b[1;33m\u001b[0m\u001b[0m\n\u001b[0;32m   1243\u001b[0m             \u001b[1;32mreturn\u001b[0m \u001b[0msuper\u001b[0m\u001b[1;33m(\u001b[0m\u001b[1;33m)\u001b[0m\u001b[1;33m.\u001b[0m\u001b[0mrecv_into\u001b[0m\u001b[1;33m(\u001b[0m\u001b[0mbuffer\u001b[0m\u001b[1;33m,\u001b[0m \u001b[0mnbytes\u001b[0m\u001b[1;33m,\u001b[0m \u001b[0mflags\u001b[0m\u001b[1;33m)\u001b[0m\u001b[1;33m\u001b[0m\u001b[1;33m\u001b[0m\u001b[0m\n",
      "\u001b[1;32m~\\anaconda3\\lib\\ssl.py\u001b[0m in \u001b[0;36mread\u001b[1;34m(self, len, buffer)\u001b[0m\n\u001b[0;32m   1097\u001b[0m         \u001b[1;32mtry\u001b[0m\u001b[1;33m:\u001b[0m\u001b[1;33m\u001b[0m\u001b[1;33m\u001b[0m\u001b[0m\n\u001b[0;32m   1098\u001b[0m             \u001b[1;32mif\u001b[0m \u001b[0mbuffer\u001b[0m \u001b[1;32mis\u001b[0m \u001b[1;32mnot\u001b[0m \u001b[1;32mNone\u001b[0m\u001b[1;33m:\u001b[0m\u001b[1;33m\u001b[0m\u001b[1;33m\u001b[0m\u001b[0m\n\u001b[1;32m-> 1099\u001b[1;33m                 \u001b[1;32mreturn\u001b[0m \u001b[0mself\u001b[0m\u001b[1;33m.\u001b[0m\u001b[0m_sslobj\u001b[0m\u001b[1;33m.\u001b[0m\u001b[0mread\u001b[0m\u001b[1;33m(\u001b[0m\u001b[0mlen\u001b[0m\u001b[1;33m,\u001b[0m \u001b[0mbuffer\u001b[0m\u001b[1;33m)\u001b[0m\u001b[1;33m\u001b[0m\u001b[1;33m\u001b[0m\u001b[0m\n\u001b[0m\u001b[0;32m   1100\u001b[0m             \u001b[1;32melse\u001b[0m\u001b[1;33m:\u001b[0m\u001b[1;33m\u001b[0m\u001b[1;33m\u001b[0m\u001b[0m\n\u001b[0;32m   1101\u001b[0m                 \u001b[1;32mreturn\u001b[0m \u001b[0mself\u001b[0m\u001b[1;33m.\u001b[0m\u001b[0m_sslobj\u001b[0m\u001b[1;33m.\u001b[0m\u001b[0mread\u001b[0m\u001b[1;33m(\u001b[0m\u001b[0mlen\u001b[0m\u001b[1;33m)\u001b[0m\u001b[1;33m\u001b[0m\u001b[1;33m\u001b[0m\u001b[0m\n",
      "\u001b[1;31mKeyboardInterrupt\u001b[0m: "
     ]
    }
   ],
   "source": [
    "# Iniciando o filtro e gravando os tweets no MongoDB\n",
    "mystream.filter(track=keywords)"
   ]
  },
  {
   "cell_type": "markdown",
   "metadata": {},
   "source": [
    "## ----> Press \"Interrupt\" button to stop the collection <----"
   ]
  },
  {
   "cell_type": "markdown",
   "metadata": {},
   "source": [
    "## Querying the Data on MongoDB"
   ]
  },
  {
   "cell_type": "code",
   "execution_count": 21,
   "metadata": {},
   "outputs": [],
   "source": [
    "mystream.disconnect()"
   ]
  },
  {
   "cell_type": "code",
   "execution_count": 23,
   "metadata": {},
   "outputs": [
    {
     "data": {
      "text/plain": [
       "{'_id': ObjectId('6085c52a922da2727100e9d6'),\n",
       " 'created_at': 'Sun Apr 25 19:38:13 +0000 2021',\n",
       " 'id_str': '1386404196883189760',\n",
       " 'text': '@Forbes So poll is on 2,500 Republicans ?\\n\\nBut\\n\\nThat data set constitutes using the term Almost Half of All Republi… https://t.co/VFdXAOEymy'}"
      ]
     },
     "execution_count": 23,
     "metadata": {},
     "output_type": "execute_result"
    }
   ],
   "source": [
    "# Verify a document on collection\n",
    "col.find_one()"
   ]
  },
  {
   "cell_type": "markdown",
   "metadata": {},
   "source": [
    "## Data Analysis with Pandas and Scikit-Learn"
   ]
  },
  {
   "cell_type": "code",
   "execution_count": 24,
   "metadata": {},
   "outputs": [],
   "source": [
    "# Creating dataset\n",
    "dataset = [{\"created_at\": item[\"created_at\"], \"text\": item[\"text\"],} for item in col.find()]"
   ]
  },
  {
   "cell_type": "code",
   "execution_count": 25,
   "metadata": {},
   "outputs": [
    {
     "data": {
      "text/plain": [
       "'1.1.3'"
      ]
     },
     "execution_count": 25,
     "metadata": {},
     "output_type": "execute_result"
    }
   ],
   "source": [
    "# Import Pandas to use datasets in Python\n",
    "import pandas as pd\n",
    "pd.__version__"
   ]
  },
  {
   "cell_type": "code",
   "execution_count": 26,
   "metadata": {},
   "outputs": [],
   "source": [
    "# Creating dataframe from dataset \n",
    "df = pd.DataFrame(dataset)"
   ]
  },
  {
   "cell_type": "code",
   "execution_count": 27,
   "metadata": {},
   "outputs": [
    {
     "data": {
      "text/html": [
       "<div>\n",
       "<style scoped>\n",
       "    .dataframe tbody tr th:only-of-type {\n",
       "        vertical-align: middle;\n",
       "    }\n",
       "\n",
       "    .dataframe tbody tr th {\n",
       "        vertical-align: top;\n",
       "    }\n",
       "\n",
       "    .dataframe thead th {\n",
       "        text-align: right;\n",
       "    }\n",
       "</style>\n",
       "<table border=\"1\" class=\"dataframe\">\n",
       "  <thead>\n",
       "    <tr style=\"text-align: right;\">\n",
       "      <th></th>\n",
       "      <th>created_at</th>\n",
       "      <th>text</th>\n",
       "    </tr>\n",
       "  </thead>\n",
       "  <tbody>\n",
       "    <tr>\n",
       "      <th>0</th>\n",
       "      <td>Sun Apr 25 19:38:13 +0000 2021</td>\n",
       "      <td>@Forbes So poll is on 2,500 Republicans ?\\n\\nB...</td>\n",
       "    </tr>\n",
       "    <tr>\n",
       "      <th>1</th>\n",
       "      <td>Sun Apr 25 19:38:13 +0000 2021</td>\n",
       "      <td>RT @jamesMa00089282: I would love to know what...</td>\n",
       "    </tr>\n",
       "    <tr>\n",
       "      <th>2</th>\n",
       "      <td>Sun Apr 25 19:38:14 +0000 2021</td>\n",
       "      <td>RT @Osmanjohn10: hay guys subscribe and share ...</td>\n",
       "    </tr>\n",
       "    <tr>\n",
       "      <th>3</th>\n",
       "      <td>Sun Apr 25 19:38:14 +0000 2021</td>\n",
       "      <td>RT @knowledgetabela: So it is the real story i...</td>\n",
       "    </tr>\n",
       "    <tr>\n",
       "      <th>4</th>\n",
       "      <td>Sun Apr 25 19:38:18 +0000 2021</td>\n",
       "      <td>RT @Programming1Pro: Want to learn Python? Ins...</td>\n",
       "    </tr>\n",
       "    <tr>\n",
       "      <th>...</th>\n",
       "      <td>...</td>\n",
       "      <td>...</td>\n",
       "    </tr>\n",
       "    <tr>\n",
       "      <th>162</th>\n",
       "      <td>Tue Apr 27 02:31:32 +0000 2021</td>\n",
       "      <td>RT @bukmedia1: #TensorFlow 2.0 Practical\\n\\n= ...</td>\n",
       "    </tr>\n",
       "    <tr>\n",
       "      <th>163</th>\n",
       "      <td>Tue Apr 27 02:31:32 +0000 2021</td>\n",
       "      <td>@lilithkillith @ChristJC2 @AshleyJason47 @teat...</td>\n",
       "    </tr>\n",
       "    <tr>\n",
       "      <th>164</th>\n",
       "      <td>Tue Apr 27 02:31:32 +0000 2021</td>\n",
       "      <td>RT @omarsar0: Understanding a wide range of al...</td>\n",
       "    </tr>\n",
       "    <tr>\n",
       "      <th>165</th>\n",
       "      <td>Tue Apr 27 02:31:34 +0000 2021</td>\n",
       "      <td>RT @couponfree01: Udemy Free Discount - Artifi...</td>\n",
       "    </tr>\n",
       "    <tr>\n",
       "      <th>166</th>\n",
       "      <td>Tue Apr 27 02:31:38 +0000 2021</td>\n",
       "      <td>In line with our mission of promoting STEM edu...</td>\n",
       "    </tr>\n",
       "  </tbody>\n",
       "</table>\n",
       "<p>167 rows × 2 columns</p>\n",
       "</div>"
      ],
      "text/plain": [
       "                         created_at  \\\n",
       "0    Sun Apr 25 19:38:13 +0000 2021   \n",
       "1    Sun Apr 25 19:38:13 +0000 2021   \n",
       "2    Sun Apr 25 19:38:14 +0000 2021   \n",
       "3    Sun Apr 25 19:38:14 +0000 2021   \n",
       "4    Sun Apr 25 19:38:18 +0000 2021   \n",
       "..                              ...   \n",
       "162  Tue Apr 27 02:31:32 +0000 2021   \n",
       "163  Tue Apr 27 02:31:32 +0000 2021   \n",
       "164  Tue Apr 27 02:31:32 +0000 2021   \n",
       "165  Tue Apr 27 02:31:34 +0000 2021   \n",
       "166  Tue Apr 27 02:31:38 +0000 2021   \n",
       "\n",
       "                                                  text  \n",
       "0    @Forbes So poll is on 2,500 Republicans ?\\n\\nB...  \n",
       "1    RT @jamesMa00089282: I would love to know what...  \n",
       "2    RT @Osmanjohn10: hay guys subscribe and share ...  \n",
       "3    RT @knowledgetabela: So it is the real story i...  \n",
       "4    RT @Programming1Pro: Want to learn Python? Ins...  \n",
       "..                                                 ...  \n",
       "162  RT @bukmedia1: #TensorFlow 2.0 Practical\\n\\n= ...  \n",
       "163  @lilithkillith @ChristJC2 @AshleyJason47 @teat...  \n",
       "164  RT @omarsar0: Understanding a wide range of al...  \n",
       "165  RT @couponfree01: Udemy Free Discount - Artifi...  \n",
       "166  In line with our mission of promoting STEM edu...  \n",
       "\n",
       "[167 rows x 2 columns]"
      ]
     },
     "execution_count": 27,
     "metadata": {},
     "output_type": "execute_result"
    }
   ],
   "source": [
    "# Print dataframe\n",
    "df"
   ]
  },
  {
   "cell_type": "code",
   "execution_count": 28,
   "metadata": {},
   "outputs": [],
   "source": [
    "# Import Scikit Learn\n",
    "from sklearn.feature_extraction.text import CountVectorizer"
   ]
  },
  {
   "cell_type": "code",
   "execution_count": 29,
   "metadata": {},
   "outputs": [
    {
     "data": {
      "text/plain": [
       "'0.23.2'"
      ]
     },
     "execution_count": 29,
     "metadata": {},
     "output_type": "execute_result"
    }
   ],
   "source": [
    "import sklearn\n",
    "sklearn.__version__"
   ]
  },
  {
   "cell_type": "code",
   "execution_count": 30,
   "metadata": {},
   "outputs": [],
   "source": [
    "# CountVectorizer\n",
    "cv = CountVectorizer()\n",
    "count_matrix = cv.fit_transform(df.text)"
   ]
  },
  {
   "cell_type": "code",
   "execution_count": 31,
   "metadata": {},
   "outputs": [
    {
     "data": {
      "text/html": [
       "<div>\n",
       "<style scoped>\n",
       "    .dataframe tbody tr th:only-of-type {\n",
       "        vertical-align: middle;\n",
       "    }\n",
       "\n",
       "    .dataframe tbody tr th {\n",
       "        vertical-align: top;\n",
       "    }\n",
       "\n",
       "    .dataframe thead th {\n",
       "        text-align: right;\n",
       "    }\n",
       "</style>\n",
       "<table border=\"1\" class=\"dataframe\">\n",
       "  <thead>\n",
       "    <tr style=\"text-align: right;\">\n",
       "      <th></th>\n",
       "      <th>word</th>\n",
       "      <th>count</th>\n",
       "    </tr>\n",
       "  </thead>\n",
       "  <tbody>\n",
       "    <tr>\n",
       "      <th>0</th>\n",
       "      <td>https</td>\n",
       "      <td>117</td>\n",
       "    </tr>\n",
       "    <tr>\n",
       "      <th>1</th>\n",
       "      <td>rt</td>\n",
       "      <td>115</td>\n",
       "    </tr>\n",
       "    <tr>\n",
       "      <th>2</th>\n",
       "      <td>co</td>\n",
       "      <td>110</td>\n",
       "    </tr>\n",
       "    <tr>\n",
       "      <th>3</th>\n",
       "      <td>to</td>\n",
       "      <td>64</td>\n",
       "    </tr>\n",
       "    <tr>\n",
       "      <th>4</th>\n",
       "      <td>python</td>\n",
       "      <td>56</td>\n",
       "    </tr>\n",
       "    <tr>\n",
       "      <th>5</th>\n",
       "      <td>the</td>\n",
       "      <td>52</td>\n",
       "    </tr>\n",
       "    <tr>\n",
       "      <th>6</th>\n",
       "      <td>data</td>\n",
       "      <td>47</td>\n",
       "    </tr>\n",
       "    <tr>\n",
       "      <th>7</th>\n",
       "      <td>in</td>\n",
       "      <td>41</td>\n",
       "    </tr>\n",
       "    <tr>\n",
       "      <th>8</th>\n",
       "      <td>of</td>\n",
       "      <td>41</td>\n",
       "    </tr>\n",
       "    <tr>\n",
       "      <th>9</th>\n",
       "      <td>science</td>\n",
       "      <td>32</td>\n",
       "    </tr>\n",
       "    <tr>\n",
       "      <th>10</th>\n",
       "      <td>ai</td>\n",
       "      <td>25</td>\n",
       "    </tr>\n",
       "    <tr>\n",
       "      <th>11</th>\n",
       "      <td>you</td>\n",
       "      <td>25</td>\n",
       "    </tr>\n",
       "    <tr>\n",
       "      <th>12</th>\n",
       "      <td>for</td>\n",
       "      <td>24</td>\n",
       "    </tr>\n",
       "    <tr>\n",
       "      <th>13</th>\n",
       "      <td>and</td>\n",
       "      <td>24</td>\n",
       "    </tr>\n",
       "    <tr>\n",
       "      <th>14</th>\n",
       "      <td>intelligence</td>\n",
       "      <td>23</td>\n",
       "    </tr>\n",
       "    <tr>\n",
       "      <th>15</th>\n",
       "      <td>artificial</td>\n",
       "      <td>23</td>\n",
       "    </tr>\n",
       "    <tr>\n",
       "      <th>16</th>\n",
       "      <td>are</td>\n",
       "      <td>23</td>\n",
       "    </tr>\n",
       "    <tr>\n",
       "      <th>17</th>\n",
       "      <td>datascience</td>\n",
       "      <td>22</td>\n",
       "    </tr>\n",
       "    <tr>\n",
       "      <th>18</th>\n",
       "      <td>machinelearning</td>\n",
       "      <td>21</td>\n",
       "    </tr>\n",
       "    <tr>\n",
       "      <th>19</th>\n",
       "      <td>here</td>\n",
       "      <td>21</td>\n",
       "    </tr>\n",
       "    <tr>\n",
       "      <th>20</th>\n",
       "      <td>read</td>\n",
       "      <td>21</td>\n",
       "    </tr>\n",
       "    <tr>\n",
       "      <th>21</th>\n",
       "      <td>bigdata</td>\n",
       "      <td>19</td>\n",
       "    </tr>\n",
       "    <tr>\n",
       "      <th>22</th>\n",
       "      <td>more</td>\n",
       "      <td>19</td>\n",
       "    </tr>\n",
       "    <tr>\n",
       "      <th>23</th>\n",
       "      <td>your</td>\n",
       "      <td>18</td>\n",
       "    </tr>\n",
       "    <tr>\n",
       "      <th>24</th>\n",
       "      <td>with</td>\n",
       "      <td>17</td>\n",
       "    </tr>\n",
       "    <tr>\n",
       "      <th>25</th>\n",
       "      <td>big</td>\n",
       "      <td>16</td>\n",
       "    </tr>\n",
       "    <tr>\n",
       "      <th>26</th>\n",
       "      <td>analytics</td>\n",
       "      <td>16</td>\n",
       "    </tr>\n",
       "    <tr>\n",
       "      <th>27</th>\n",
       "      <td>is</td>\n",
       "      <td>15</td>\n",
       "    </tr>\n",
       "    <tr>\n",
       "      <th>28</th>\n",
       "      <td>benjaminp3ters</td>\n",
       "      <td>14</td>\n",
       "    </tr>\n",
       "    <tr>\n",
       "      <th>29</th>\n",
       "      <td>it</td>\n",
       "      <td>14</td>\n",
       "    </tr>\n",
       "    <tr>\n",
       "      <th>30</th>\n",
       "      <td>do</td>\n",
       "      <td>12</td>\n",
       "    </tr>\n",
       "    <tr>\n",
       "      <th>31</th>\n",
       "      <td>what</td>\n",
       "      <td>12</td>\n",
       "    </tr>\n",
       "    <tr>\n",
       "      <th>32</th>\n",
       "      <td>programming</td>\n",
       "      <td>12</td>\n",
       "    </tr>\n",
       "    <tr>\n",
       "      <th>33</th>\n",
       "      <td>iainljbrown</td>\n",
       "      <td>12</td>\n",
       "    </tr>\n",
       "    <tr>\n",
       "      <th>34</th>\n",
       "      <td>if</td>\n",
       "      <td>11</td>\n",
       "    </tr>\n",
       "    <tr>\n",
       "      <th>35</th>\n",
       "      <td>we</td>\n",
       "      <td>11</td>\n",
       "    </tr>\n",
       "    <tr>\n",
       "      <th>36</th>\n",
       "      <td>lt</td>\n",
       "      <td>10</td>\n",
       "    </tr>\n",
       "    <tr>\n",
       "      <th>37</th>\n",
       "      <td>iot</td>\n",
       "      <td>10</td>\n",
       "    </tr>\n",
       "    <tr>\n",
       "      <th>38</th>\n",
       "      <td>exam</td>\n",
       "      <td>10</td>\n",
       "    </tr>\n",
       "    <tr>\n",
       "      <th>39</th>\n",
       "      <td>gt</td>\n",
       "      <td>10</td>\n",
       "    </tr>\n",
       "    <tr>\n",
       "      <th>40</th>\n",
       "      <td>100daysofcode</td>\n",
       "      <td>10</td>\n",
       "    </tr>\n",
       "    <tr>\n",
       "      <th>41</th>\n",
       "      <td>iiot</td>\n",
       "      <td>10</td>\n",
       "    </tr>\n",
       "    <tr>\n",
       "      <th>42</th>\n",
       "      <td>intro</td>\n",
       "      <td>9</td>\n",
       "    </tr>\n",
       "    <tr>\n",
       "      <th>43</th>\n",
       "      <td>essay</td>\n",
       "      <td>9</td>\n",
       "    </tr>\n",
       "    <tr>\n",
       "      <th>44</th>\n",
       "      <td>me</td>\n",
       "      <td>9</td>\n",
       "    </tr>\n",
       "    <tr>\n",
       "      <th>45</th>\n",
       "      <td>learn</td>\n",
       "      <td>9</td>\n",
       "    </tr>\n",
       "    <tr>\n",
       "      <th>46</th>\n",
       "      <td>javascript</td>\n",
       "      <td>9</td>\n",
       "    </tr>\n",
       "    <tr>\n",
       "      <th>47</th>\n",
       "      <td>5uyjg4e1qq</td>\n",
       "      <td>9</td>\n",
       "    </tr>\n",
       "    <tr>\n",
       "      <th>48</th>\n",
       "      <td>success</td>\n",
       "      <td>9</td>\n",
       "    </tr>\n",
       "    <tr>\n",
       "      <th>49</th>\n",
       "      <td>an</td>\n",
       "      <td>8</td>\n",
       "    </tr>\n",
       "  </tbody>\n",
       "</table>\n",
       "</div>"
      ],
      "text/plain": [
       "               word  count\n",
       "0             https    117\n",
       "1                rt    115\n",
       "2                co    110\n",
       "3                to     64\n",
       "4            python     56\n",
       "5               the     52\n",
       "6              data     47\n",
       "7                in     41\n",
       "8                of     41\n",
       "9           science     32\n",
       "10               ai     25\n",
       "11              you     25\n",
       "12              for     24\n",
       "13              and     24\n",
       "14     intelligence     23\n",
       "15       artificial     23\n",
       "16              are     23\n",
       "17      datascience     22\n",
       "18  machinelearning     21\n",
       "19             here     21\n",
       "20             read     21\n",
       "21          bigdata     19\n",
       "22             more     19\n",
       "23             your     18\n",
       "24             with     17\n",
       "25              big     16\n",
       "26        analytics     16\n",
       "27               is     15\n",
       "28   benjaminp3ters     14\n",
       "29               it     14\n",
       "30               do     12\n",
       "31             what     12\n",
       "32      programming     12\n",
       "33      iainljbrown     12\n",
       "34               if     11\n",
       "35               we     11\n",
       "36               lt     10\n",
       "37              iot     10\n",
       "38             exam     10\n",
       "39               gt     10\n",
       "40    100daysofcode     10\n",
       "41             iiot     10\n",
       "42            intro      9\n",
       "43            essay      9\n",
       "44               me      9\n",
       "45            learn      9\n",
       "46       javascript      9\n",
       "47       5uyjg4e1qq      9\n",
       "48          success      9\n",
       "49               an      8"
      ]
     },
     "execution_count": 31,
     "metadata": {},
     "output_type": "execute_result"
    }
   ],
   "source": [
    "# Counting number of occurrences of the main words in dataset\n",
    "word_count = pd.DataFrame(cv.get_feature_names(), columns=[\"word\"])\n",
    "word_count[\"count\"] = count_matrix.sum(axis=0).tolist()[0]\n",
    "word_count = word_count.sort_values(\"count\", ascending=False).reset_index(drop=True)\n",
    "word_count[:50]"
   ]
  },
  {
   "cell_type": "markdown",
   "metadata": {},
   "source": [
    "# Fim"
   ]
  },
  {
   "cell_type": "markdown",
   "metadata": {},
   "source": [
    "### Thanks!"
   ]
  }
 ],
 "metadata": {
  "kernelspec": {
   "display_name": "Python 3",
   "language": "python",
   "name": "python3"
  },
  "language_info": {
   "codemirror_mode": {
    "name": "ipython",
    "version": 3
   },
   "file_extension": ".py",
   "mimetype": "text/x-python",
   "name": "python",
   "nbconvert_exporter": "python",
   "pygments_lexer": "ipython3",
   "version": "3.8.5"
  }
 },
 "nbformat": 4,
 "nbformat_minor": 1
}
